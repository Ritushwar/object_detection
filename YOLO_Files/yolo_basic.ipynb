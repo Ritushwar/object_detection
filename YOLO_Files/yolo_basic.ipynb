{
 "cells": [
  {
   "cell_type": "markdown",
   "id": "f7f935b4",
   "metadata": {},
   "source": [
    "## YOLO BASIC USING ULTRALYTICS"
   ]
  },
  {
   "cell_type": "code",
   "execution_count": 4,
   "id": "9fe8386d",
   "metadata": {},
   "outputs": [],
   "source": [
    "from ultralytics import YOLO\n",
    "import cv2\n",
    "model = YOLO('../YOLO_WEIGHTS/yolov8n.pt')"
   ]
  },
  {
   "cell_type": "code",
   "execution_count": 5,
   "id": "ad6420e3",
   "metadata": {},
   "outputs": [
    {
     "name": "stdout",
     "output_type": "stream",
     "text": [
      "\n",
      "image 1/1 /home/ritu/object_detection/YOLO_Files/Images/img_1.jpg: 448x640 5 persons, 1 bus, 2 backpacks, 3 handbags, 105.2ms\n",
      "Speed: 2.1ms preprocess, 105.2ms inference, 1.0ms postprocess per image at shape (1, 3, 448, 640)\n"
     ]
    }
   ],
   "source": [
    "results = model(\"Images/img_1.jpg\")\n",
    "detected_frame = results[0].plot()\n",
    "results[0].save(filename=\"Images/img_1_output.jpg\")\n",
    "cv2.imshow(\"Detected Image\", detected_frame)\n",
    "cv2.waitKey(0)\n",
    "cv2.destroyAllWindows()"
   ]
  },
  {
   "cell_type": "code",
   "execution_count": 6,
   "id": "f92f4e14",
   "metadata": {},
   "outputs": [
    {
     "name": "stdout",
     "output_type": "stream",
     "text": [
      "\n",
      "image 1/1 /home/ritu/object_detection/YOLO_Files/Images/img_2.jpg: 480x640 50 cars, 140.6ms\n",
      "Speed: 3.3ms preprocess, 140.6ms inference, 0.9ms postprocess per image at shape (1, 3, 480, 640)\n"
     ]
    }
   ],
   "source": [
    "results = model(\"Images/img_2.jpg\")\n",
    "detected_frame = results[0].plot()\n",
    "results[0].save(filename=\"Images/img_2_output.jpg\")\n",
    "cv2.imshow(\"Detected Image\", detected_frame)\n",
    "cv2.waitKey(0)\n",
    "cv2.destroyAllWindows()"
   ]
  }
 ],
 "metadata": {
  "kernelspec": {
   "display_name": "dev-env",
   "language": "python",
   "name": "python3"
  },
  "language_info": {
   "codemirror_mode": {
    "name": "ipython",
    "version": 3
   },
   "file_extension": ".py",
   "mimetype": "text/x-python",
   "name": "python",
   "nbconvert_exporter": "python",
   "pygments_lexer": "ipython3",
   "version": "3.12.3"
  }
 },
 "nbformat": 4,
 "nbformat_minor": 5
}
